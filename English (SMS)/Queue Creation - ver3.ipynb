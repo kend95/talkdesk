{
 "cells": [
  {
   "cell_type": "markdown",
   "metadata": {},
   "source": [
    "**Installing Necessary Library**"
   ]
  },
  {
   "cell_type": "code",
   "execution_count": 5,
   "metadata": {},
   "outputs": [
    {
     "name": "stdout",
     "output_type": "stream",
     "text": [
      "Requirement already satisfied: panda in c:\\python311\\lib\\site-packages (0.3.1)\n",
      "Requirement already satisfied: setuptools in c:\\python311\\lib\\site-packages (from panda) (65.5.0)\n",
      "Requirement already satisfied: requests in c:\\python311\\lib\\site-packages (from panda) (2.31.0)\n",
      "Requirement already satisfied: charset-normalizer<4,>=2 in c:\\python311\\lib\\site-packages (from requests->panda) (3.3.2)\n",
      "Requirement already satisfied: idna<4,>=2.5 in c:\\python311\\lib\\site-packages (from requests->panda) (3.6)\n",
      "Requirement already satisfied: urllib3<3,>=1.21.1 in c:\\python311\\lib\\site-packages (from requests->panda) (2.1.0)\n",
      "Requirement already satisfied: certifi>=2017.4.17 in c:\\python311\\lib\\site-packages (from requests->panda) (2023.11.17)\n",
      "Note: you may need to restart the kernel to use updated packages.\n"
     ]
    },
    {
     "name": "stderr",
     "output_type": "stream",
     "text": [
      "\n",
      "[notice] A new release of pip is available: 23.1.2 -> 23.3.2\n",
      "[notice] To update, run: python.exe -m pip install --upgrade pip\n"
     ]
    }
   ],
   "source": [
    "pip install panda\n"
   ]
  },
  {
   "cell_type": "code",
   "execution_count": 6,
   "metadata": {},
   "outputs": [],
   "source": [
    "import json\n",
    "import pandas as pd\n",
    "from pathlib import Path\n",
    "import os\n",
    "from datetime import datetime"
   ]
  },
  {
   "cell_type": "code",
   "execution_count": 7,
   "metadata": {},
   "outputs": [
    {
     "data": {
      "text/plain": [
       "'Template (DO NOT TOUCH)/Glenwood Queue - v1 (Template).json'"
      ]
     },
     "execution_count": 7,
     "metadata": {},
     "output_type": "execute_result"
    }
   ],
   "source": [
    "path = str(Path().absolute()).replace(\"\\\\\",\"/\")\n",
    "require_path = path + \"/Template (DO NOT TOUCH)/\"\n",
    "dir_list= \"Template (DO NOT TOUCH)/\"+ os.listdir(require_path)[0]\n",
    "dir_list"
   ]
  },
  {
   "cell_type": "code",
   "execution_count": 8,
   "metadata": {},
   "outputs": [
    {
     "name": "stdout",
     "output_type": "stream",
     "text": [
      "Queue Name:  Hillsboro\n",
      "Business Hours:  07:00:00AM - 19:00:00 PM\n",
      "Queue Region Time:  America/Chicago\n"
     ]
    }
   ],
   "source": [
    "# simple hour convertion function format from 12hour to 24hour time\n",
    "def time_convert(hour):\n",
    "    hour = \"0\"+hour\n",
    "    t = datetime.strptime(hour, \"%I %p\").strftime(\"%H:%M:%S\")\n",
    "    return(t)\n",
    "def time_zone(zone):\n",
    "    if zone == \"central\" or zone ==\"Central\":\n",
    "        r = \"America/Chicago\"\n",
    "    elif zone == \"pacific\" or zone == \"Pacific\":\n",
    "        r = \"America/Los_Angeles\"\n",
    "    elif zone == \"east\" or zone == \"East\":\n",
    "        r = \"America/New_York\"\n",
    "    \n",
    "    return (r)\n",
    "\n",
    "#import template file\n",
    "with open(dir_list) as f:\n",
    "    data = f.read()\n",
    "\n",
    "queue_name = input(\"Please Enter The New Queue name only:\")\n",
    "from_hour = input(\"Please Enter Starting Hours (1-12): \") + \" AM\"\n",
    "end_hour = input((\"Please Enter Ending Hours (1-12): \")) + \" PM\"\n",
    "region = input(\"Please Enter Time Zone (Central/Pacific/East): \")\n",
    "\n",
    "\n",
    "\n",
    "from_hour = time_convert(from_hour)\n",
    "end_hour = time_convert(end_hour)\n",
    "region = time_zone(region)\n",
    "\n",
    "print(\"Queue Name: \", queue_name)\n",
    "print(\"Business Hours: \",from_hour + \"AM - \" + end_hour,\"PM\")\n",
    "print(\"Queue Region Time: \", region)\n",
    "\n",
    "Head = data[:254].replace(\"city of santa clara\", queue_name)\n",
    "Tail= data[254:].replace(\"city of santa clara\", queue_name.lower())\n",
    "data = Head + Tail\n",
    "data = data.replace(\"07:00:00\", from_hour)\n",
    "data = data.replace(\"19:00:00\", end_hour)\n",
    "data = data.replace(\"America/Chicago\",region)\n",
    "\n",
    "#Export New File\n",
    "with open(\"Completed/\"+queue_name+\" - v1.json\", 'w') as outfile:\n",
    "    outfile.write(data)"
   ]
  },
  {
   "cell_type": "markdown",
   "metadata": {},
   "source": [
    "**Check to see if the ring group is replace correctly**"
   ]
  },
  {
   "cell_type": "code",
   "execution_count": 9,
   "metadata": {},
   "outputs": [
    {
     "data": {
      "text/plain": [
       "properties.assignment_parameters.ring_groups.ring_groups_list\n",
       "[glenwood management spanish]    11\n",
       "[glenwood management]            11\n",
       "Name: count, dtype: int64"
      ]
     },
     "execution_count": 9,
     "metadata": {},
     "output_type": "execute_result"
    }
   ],
   "source": [
    "with open(\"Completed/\"+queue_name+\" - v1.json\") as f:\n",
    "    data = f.read()\n",
    "    data = json.loads(data)\n",
    "    \n",
    "df=pd.json_normalize(data[\"steps\"])\n",
    "\n",
    "df[\"properties.assignment_parameters.ring_groups.ring_groups_list\"].value_counts()\n"
   ]
  },
  {
   "cell_type": "markdown",
   "metadata": {},
   "source": [
    "**Check for Time/Days/Timezone**"
   ]
  },
  {
   "cell_type": "code",
   "execution_count": 29,
   "metadata": {},
   "outputs": [
    {
     "data": {
      "text/html": [
       "<div>\n",
       "<style scoped>\n",
       "    .dataframe tbody tr th:only-of-type {\n",
       "        vertical-align: middle;\n",
       "    }\n",
       "\n",
       "    .dataframe tbody tr th {\n",
       "        vertical-align: top;\n",
       "    }\n",
       "\n",
       "    .dataframe thead th {\n",
       "        text-align: right;\n",
       "    }\n",
       "</style>\n",
       "<table border=\"1\" class=\"dataframe\">\n",
       "  <thead>\n",
       "    <tr style=\"text-align: right;\">\n",
       "      <th></th>\n",
       "      <th>days</th>\n",
       "      <th>time.to</th>\n",
       "      <th>time.from</th>\n",
       "      <th>Time Zone</th>\n",
       "    </tr>\n",
       "  </thead>\n",
       "  <tbody>\n",
       "    <tr>\n",
       "      <th>0</th>\n",
       "      <td>[MONDAY, TUESDAY, WEDNESDAY, THURSDAY, FRIDAY, SATURDAY, SUNDAY]</td>\n",
       "      <td>17:00:00</td>\n",
       "      <td>08:00:00</td>\n",
       "      <td>New York</td>\n",
       "    </tr>\n",
       "  </tbody>\n",
       "</table>\n",
       "</div>"
      ],
      "text/plain": [
       "                                                               days   time.to  \\\n",
       "0  [MONDAY, TUESDAY, WEDNESDAY, THURSDAY, FRIDAY, SATURDAY, SUNDAY]  17:00:00   \n",
       "\n",
       "  time.from Time Zone  \n",
       "0  08:00:00  New York  "
      ]
     },
     "execution_count": 29,
     "metadata": {},
     "output_type": "execute_result"
    }
   ],
   "source": [
    "pd.set_option('max_colwidth', None)\n",
    "\n",
    "for i,value in df[df[\"component.name\"]==\"time_based_rules-NDU4NTVlNz\"][\"exits\"].items():\n",
    "    df_time=pd.json_normalize(value[1])\n",
    "    for i,value in df_time[\"condition.ranges\"].items():\n",
    "        time=pd.json_normalize(value)\n",
    "    for i,value in df_time[\"condition.timezone\"].items():\n",
    "        time[\"Time Zone\"] = value.split(\"/\")[1].replace(\"_\",\" \")\n",
    "\n",
    "time\n"
   ]
  },
  {
   "cell_type": "code",
   "execution_count": null,
   "metadata": {},
   "outputs": [
    {
     "data": {
      "text/plain": [
       "component.name\n",
       "play_audio-NjFkZDU2MG              22\n",
       "voicemail-NGQ0ZDE5Nj               10\n",
       "callback-OTU1MjIyYm                10\n",
       "standard_ivr-M2NlYzMzNz             9\n",
       "calendar_based_rules-OTQ1M2UxMG     4\n",
       "assignment_and_dial-M2JhZTViYT      2\n",
       "time_based_rules-NDU4NTVlNz         2\n",
       "inbound_voice-ZjE1ZjM0MG            1\n",
       "record-ZGE1ZDUyOD                   1\n",
       "Name: count, dtype: int64"
      ]
     },
     "execution_count": 7,
     "metadata": {},
     "output_type": "execute_result"
    }
   ],
   "source": [
    "df[\"component.name\"].value_counts()"
   ]
  }
 ],
 "metadata": {
  "kernelspec": {
   "display_name": "base",
   "language": "python",
   "name": "python3"
  },
  "language_info": {
   "codemirror_mode": {
    "name": "ipython",
    "version": 3
   },
   "file_extension": ".py",
   "mimetype": "text/x-python",
   "name": "python",
   "nbconvert_exporter": "python",
   "pygments_lexer": "ipython3",
   "version": "3.11.4"
  }
 },
 "nbformat": 4,
 "nbformat_minor": 2
}
