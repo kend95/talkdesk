{
 "cells": [
  {
   "cell_type": "code",
   "execution_count": 1,
   "metadata": {},
   "outputs": [],
   "source": [
    "# Run this Line if this is your first time running the script. Then Highlight the \"pip install panda\" (ctrl + / ) after your first time running.\n",
    "# To unhighlight the \"pip install panda\" (ctrl + /)\n",
    "\n",
    "# pip install panda"
   ]
  },
  {
   "cell_type": "code",
   "execution_count": 44,
   "metadata": {},
   "outputs": [],
   "source": [
    "import json\n",
    "import pandas as pd\n",
    "from pathlib import Path\n",
    "import os\n",
    "from datetime import datetime"
   ]
  },
  {
   "cell_type": "markdown",
   "metadata": {},
   "source": [
    "# Currently, there are three Queue option in this script:\n",
    "+ Option 1 : English and Spanish (SMS)\n",
    "+ Option 2 : English and Spanish Queue (NO SMS)\n",
    "+ Option 3 : English (SMS)\n",
    "\n",
    "**Please Choose from (1 to 3)**"
   ]
  },
  {
   "cell_type": "code",
   "execution_count": null,
   "metadata": {},
   "outputs": [],
   "source": [
    "with open(\"C:/Users/trinh/OneDrive/Desktop/Talkdesk Queue Creation Script/English and Spanish (SMS)/Completed/H Heath - v1.json\") as f:\n",
    "    data = f.read()\n",
    "    data = json.loads(data)"
   ]
  },
  {
   "cell_type": "code",
   "execution_count": 2,
   "metadata": {},
   "outputs": [
    {
     "data": {
      "text/plain": [
       "'English and Spanish (SMS)/Template (DO NOT TOUCH)/Oakland Management - v1 (Template).json'"
      ]
     },
     "execution_count": 2,
     "metadata": {},
     "output_type": "execute_result"
    }
   ],
   "source": [
    "\n",
    "def queue_type(x):\n",
    "    eng_span_sms = \"/English and Spanish (SMS)/\"\n",
    "    eng_span_no_sms = \"/English and Spanish Queue (NO SMS)/\"\n",
    "    eng_sms = \"/English (SMS)/\"\n",
    "    if x == 1:\n",
    "        return eng_span_sms\n",
    "    elif x == 2:\n",
    "        return eng_span_no_sms\n",
    "    elif x == 3:\n",
    "        return eng_sms\n",
    "\n",
    "while True:\n",
    "    try:\n",
    "        option = [1,2,3]\n",
    "        what_queue = int(input(\"What is the Queue to create (input number 1 / 2 / 3): \"))\n",
    "        \n",
    "        while what_queue not in option:\n",
    "            print(\"Error! Please double check your input and enter a single digit number!\")\n",
    "            what_queue = int(input(\"Please Renter your Input! What is the Queue to create (input number 1 or 2 or 3): \"))\n",
    "        \n",
    "        path = str(Path().absolute()).replace(\"\\\\\",\"/\")\n",
    "        \n",
    "        queue_path_completed = queue_type(what_queue) + \"Completed/\"\n",
    "        queue_path_template = queue_type(what_queue) + \"Template (DO NOT TOUCH)/\"\n",
    "\n",
    "        dir_list= queue_path_template[1:]+os.listdir(path+queue_path_template)[0]\n",
    "        \n",
    "        break\n",
    "    except:\n",
    "        print(\"Error! Please Enter a single digit number!\")\n",
    "\n",
    "dir_list\n"
   ]
  },
  {
   "cell_type": "code",
   "execution_count": 3,
   "metadata": {},
   "outputs": [
    {
     "name": "stdout",
     "output_type": "stream",
     "text": [
      "The Studio Template ring group for the new Queue is: oakland management\n"
     ]
    },
    {
     "data": {
      "text/html": [
       "<div>\n",
       "<style scoped>\n",
       "    .dataframe tbody tr th:only-of-type {\n",
       "        vertical-align: middle;\n",
       "    }\n",
       "\n",
       "    .dataframe tbody tr th {\n",
       "        vertical-align: top;\n",
       "    }\n",
       "\n",
       "    .dataframe thead th {\n",
       "        text-align: right;\n",
       "    }\n",
       "</style>\n",
       "<table border=\"1\" class=\"dataframe\">\n",
       "  <thead>\n",
       "    <tr style=\"text-align: right;\">\n",
       "      <th></th>\n",
       "      <th>Days</th>\n",
       "      <th>From Time</th>\n",
       "      <th>To Time</th>\n",
       "      <th>Time Zone</th>\n",
       "    </tr>\n",
       "  </thead>\n",
       "  <tbody>\n",
       "    <tr>\n",
       "      <th>0</th>\n",
       "      <td>[MONDAY, TUESDAY, WEDNESDAY, THURSDAY, FRIDAY, SATURDAY, SUNDAY]</td>\n",
       "      <td>07:00:00</td>\n",
       "      <td>19:00:00</td>\n",
       "      <td>Chicago</td>\n",
       "    </tr>\n",
       "  </tbody>\n",
       "</table>\n",
       "</div>"
      ],
      "text/plain": [
       "                                                               Days From Time  \\\n",
       "0  [MONDAY, TUESDAY, WEDNESDAY, THURSDAY, FRIDAY, SATURDAY, SUNDAY]  07:00:00   \n",
       "\n",
       "    To Time Time Zone  \n",
       "0  19:00:00   Chicago  "
      ]
     },
     "execution_count": 3,
     "metadata": {},
     "output_type": "execute_result"
    }
   ],
   "source": [
    "#Find the correct ring group name function\n",
    "def find_ring_group_name(ring_group_list):\n",
    "    ring_group.index.to_list()\n",
    "    group_list_len = []\n",
    "    for group in ring_group_list.index.to_list():\n",
    "        group_list_len.append(len(group[0]))\n",
    "        \n",
    "    for i, value in enumerate(group_list_len):\n",
    "        if min(group_list_len) == value :\n",
    "            ring=ring_group.index.to_list()[i]\n",
    "    return (str(ring[0]))\n",
    "\n",
    "\n",
    "# Lookup the right template for creating the queue\n",
    "with open(dir_list) as f:\n",
    "    data = f.read()\n",
    "    data = json.loads(data)\n",
    "\n",
    "\n",
    "df=pd.json_normalize(data[\"steps\"])\n",
    "\n",
    "ring_group=df[\"properties.assignment_parameters.ring_groups.ring_groups_list\"].value_counts()\n",
    "ring_group_name = find_ring_group_name(ring_group)\n",
    "print(\"The Studio Template ring group for the new Queue is:\",ring_group_name)\n",
    "pd.set_option('max_colwidth', None)\n",
    "\n",
    "\n",
    "for i,value in df[df[\"component.name\"]==\"time_based_rules-NDU4NTVlNz\"][\"exits\"].items():\n",
    "    df_time=pd.json_normalize(value[1])\n",
    "    for i,value in df_time[\"condition.ranges\"].items():\n",
    "        time=pd.json_normalize(value)\n",
    "    for i,value in df_time[\"condition.timezone\"].items():\n",
    "        time[\"Time Zone\"] = value.split(\"/\")[1].replace(\"_\",\" \")\n",
    "\n",
    "\n",
    "time = time[[\"days\",\"time.from\",\"time.to\",\"Time Zone\"]]\n",
    "List_of_Column = [\"Days\",\"From Time\",\"To Time\", \"Time Zone\"]\n",
    "time.columns = List_of_Column\n",
    "time"
   ]
  },
  {
   "cell_type": "code",
   "execution_count": 27,
   "metadata": {},
   "outputs": [
    {
     "data": {
      "text/plain": [
       "properties.assignment_parameters.ring_groups.ring_groups_list\n",
       "[oakland management]                10\n",
       "[oakland management spanish]        10\n",
       "[oakland management sms]             5\n",
       "[oakland management spanish sms]     5\n",
       "Name: count, dtype: int64"
      ]
     },
     "execution_count": 27,
     "metadata": {},
     "output_type": "execute_result"
    }
   ],
   "source": [
    "ring_group"
   ]
  },
  {
   "cell_type": "code",
   "execution_count": 35,
   "metadata": {},
   "outputs": [
    {
     "data": {
      "text/plain": [
       "'oakland management'"
      ]
     },
     "execution_count": 35,
     "metadata": {},
     "output_type": "execute_result"
    }
   ],
   "source": [
    "\n",
    "lis = ring_group.index.to_list()\n"
   ]
  },
  {
   "cell_type": "code",
   "execution_count": 42,
   "metadata": {},
   "outputs": [],
   "source": [
    "def find_ring_group_name(ring_group_list):\n",
    "    min_length = min(len(group[0]) for group in ring_group_list.index.to_list())\n",
    "    ring = next(group[0] for group in ring_group_list.index.to_list() if len(group[0]) == min_length)\n",
    "    return ring\n"
   ]
  },
  {
   "cell_type": "code",
   "execution_count": 43,
   "metadata": {},
   "outputs": [
    {
     "data": {
      "text/plain": [
       "'oakland management'"
      ]
     },
     "execution_count": 43,
     "metadata": {},
     "output_type": "execute_result"
    }
   ],
   "source": [
    "find_ring_group_name(ring_group)"
   ]
  },
  {
   "cell_type": "code",
   "execution_count": null,
   "metadata": {},
   "outputs": [],
   "source": [
    "# simple hour convertion function format from 12hour to 24hour time\n",
    "def time_convert(hour):\n",
    "    hour = \"0\"+hour\n",
    "    t = datetime.strptime(hour, \"%I %p\").strftime(\"%H:%M:%S\")\n",
    "    return(t)\n",
    "def time_zone(zone):\n",
    "    if zone == \"central\" or zone ==\"Central\":\n",
    "        r = \"America/Chicago\"\n",
    "    elif zone == \"pacific\" or zone == \"Pacific\":\n",
    "        r = \"America/Los_Angeles\"\n",
    "    elif zone == \"east\" or zone == \"East\":\n",
    "        r = \"America/New_York\"\n",
    "    elif zone == \"hawaii\" or zone == \"Hawaii\":\n",
    "        r = \"Pacific/Honolulu\"\n",
    "    elif zone == \"mountain\" or zone == \"Mountain\":\n",
    "        r = \"America/Denver\"\n",
    "    \n",
    "    return r\n",
    "\n",
    "#import template file\n",
    "with open(dir_list) as f:\n",
    "    data = f.read()\n",
    "\n",
    "queue_name = input(\"Please Enter The New Queue name only:\")\n",
    "from_hour = input(\"Please Enter Starting Hours (1-12): \") + \" AM\"\n",
    "end_hour = input((\"Please Enter Ending Hours (1-12): \")) + \" PM\"\n",
    "region = input(\"Please Enter Time Zone from the list (Central/Pacific/East/Mountain/Hawaii): \")\n",
    "\n",
    "\n",
    "\n",
    "from_hour = time_convert(from_hour)\n",
    "end_hour = time_convert(end_hour)\n",
    "region = time_zone(region)\n",
    "\n",
    "print(\"Queue Name: \", queue_name)\n",
    "print(\"Business Hours: \",from_hour + \"AM - \" + end_hour,\"PM\")\n",
    "print(\"Queue Region Time: \", region)\n",
    "\n",
    "Head = data[:254].replace(ring_group_name, queue_name)\n",
    "Tail= data[254:].replace(ring_group_name, queue_name.lower())\n",
    "data = Head + Tail\n",
    "data = data.replace(str(time[\"From Time\"][0]), from_hour)\n",
    "data = data.replace(str(time[\"To Time\"][0]), end_hour)\n",
    "data = data.replace(\"America/\"+str(time[\"Time Zone\"][0]),region)\n",
    "\n",
    "#Export New File\n",
    "with open(queue_path_completed[1:]+queue_name+\" - v1.json\", 'w') as outfile:\n",
    "    outfile.write(data)"
   ]
  },
  {
   "cell_type": "code",
   "execution_count": null,
   "metadata": {},
   "outputs": [],
   "source": [
    "with open(queue_path_completed[1:]+queue_name+\" - v1.json\") as f:\n",
    "    data = f.read()\n",
    "    data = json.loads(data)\n",
    "    \n",
    "df=pd.json_normalize(data[\"steps\"])\n",
    "\n",
    "ring_group=df[\"properties.assignment_parameters.ring_groups.ring_groups_list\"].value_counts()\n",
    "print(ring_group)\n",
    "\n",
    "pd.set_option('max_colwidth', None)\n",
    "\n",
    "for i,value in df[df[\"component.name\"]==\"time_based_rules-NDU4NTVlNz\"][\"exits\"].items():\n",
    "    df_time=pd.json_normalize(value[1])\n",
    "    for i,value in df_time[\"condition.ranges\"].items():\n",
    "        time=pd.json_normalize(value)\n",
    "    for i,value in df_time[\"condition.timezone\"].items():\n",
    "        time[\"Time Zone\"] = value.split(\"/\")[1].replace(\"_\",\" \")\n",
    "\n",
    "\n",
    "time = time[[\"days\",\"time.from\",\"time.to\",\"Time Zone\"]]\n",
    "List_of_Column = [\"Days\",\"From Time\",\"To Time\", \"Time Zone\"]\n",
    "time.columns = List_of_Column\n",
    "time"
   ]
  },
  {
   "cell_type": "code",
   "execution_count": null,
   "metadata": {},
   "outputs": [],
   "source": [
    "component_check=df[\"component.name\"].value_counts()\n",
    "component_check"
   ]
  }
 ],
 "metadata": {
  "kernelspec": {
   "display_name": "base",
   "language": "python",
   "name": "python3"
  },
  "language_info": {
   "codemirror_mode": {
    "name": "ipython",
    "version": 3
   },
   "file_extension": ".py",
   "mimetype": "text/x-python",
   "name": "python",
   "nbconvert_exporter": "python",
   "pygments_lexer": "ipython3",
   "version": "3.11.7"
  }
 },
 "nbformat": 4,
 "nbformat_minor": 2
}
