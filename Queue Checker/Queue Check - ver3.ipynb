{
 "cells": [
  {
   "cell_type": "markdown",
   "metadata": {},
   "source": [
    "# **Installing Necessary Library**\n",
    "\n",
    "#### Please Make sure these first two block of code run successfully before using the script! As long as a check mark appear next to the block with runtime, it should mean that the block ran sucessfully!"
   ]
  },
  {
   "cell_type": "code",
   "execution_count": 10,
   "metadata": {},
   "outputs": [
    {
     "name": "stdout",
     "output_type": "stream",
     "text": [
      "Requirement already satisfied: panda in c:\\python311\\lib\\site-packages (0.3.1)\n",
      "Requirement already satisfied: setuptools in c:\\python311\\lib\\site-packages (from panda) (65.5.0)\n",
      "Requirement already satisfied: requests in c:\\python311\\lib\\site-packages (from panda) (2.31.0)\n",
      "Requirement already satisfied: charset-normalizer<4,>=2 in c:\\python311\\lib\\site-packages (from requests->panda) (3.3.2)\n",
      "Requirement already satisfied: idna<4,>=2.5 in c:\\python311\\lib\\site-packages (from requests->panda) (3.6)\n",
      "Requirement already satisfied: urllib3<3,>=1.21.1 in c:\\python311\\lib\\site-packages (from requests->panda) (2.1.0)\n",
      "Requirement already satisfied: certifi>=2017.4.17 in c:\\python311\\lib\\site-packages (from requests->panda) (2023.11.17)\n",
      "Note: you may need to restart the kernel to use updated packages.\n"
     ]
    },
    {
     "name": "stderr",
     "output_type": "stream",
     "text": [
      "\n",
      "[notice] A new release of pip is available: 23.1.2 -> 23.3.2\n",
      "[notice] To update, run: python.exe -m pip install --upgrade pip\n"
     ]
    }
   ],
   "source": [
    "pip install panda"
   ]
  },
  {
   "cell_type": "code",
   "execution_count": 11,
   "metadata": {},
   "outputs": [],
   "source": [
    "import json\n",
    "import pandas as pd\n",
    "from pathlib import Path\n",
    "import os"
   ]
  },
  {
   "cell_type": "markdown",
   "metadata": {},
   "source": [
    "# Check to see if the ring group is replace correctly\n",
    "\n",
    "### Normally a Fully build queue (English/Spanish w/SMS) will have:\n",
    "\n",
    "+ **10** Ring group for English\n",
    "\n",
    "+ **10** Ring group for Spanish\n",
    "\n",
    "+ **5** Ring group for SMS English\n",
    "\n",
    "+ **5** Ring group for SMS Spanish\n"
   ]
  },
  {
   "cell_type": "code",
   "execution_count": 18,
   "metadata": {},
   "outputs": [
    {
     "name": "stdout",
     "output_type": "stream",
     "text": [
      "File in Folder:  Oakland Management - v1 (Template).json\n"
     ]
    },
    {
     "data": {
      "text/plain": [
       "properties.assignment_parameters.ring_groups.ring_groups_list\n",
       "[oakland management]                10\n",
       "[oakland management spanish]        10\n",
       "[oakland management sms]             5\n",
       "[oakland management spanish sms]     5\n",
       "Name: count, dtype: int64"
      ]
     },
     "execution_count": 18,
     "metadata": {},
     "output_type": "execute_result"
    }
   ],
   "source": [
    "path = str(Path().absolute()).replace(\"\\\\\",\"/\")\n",
    "require_path = path + \"/Queue to Check/\"\n",
    "dir_list= os.listdir(require_path)[0]\n",
    "print(\"File in Folder: \",dir_list)\n",
    "\n",
    "with open(\"Queue to Check/\"+dir_list) as f:\n",
    "    data = f.read()\n",
    "    data = json.loads(data)\n",
    "    \n",
    "df=pd.json_normalize(data[\"steps\"])\n",
    "\n",
    "df[\"properties.assignment_parameters.ring_groups.ring_groups_list\"].value_counts()\n"
   ]
  },
  {
   "cell_type": "markdown",
   "metadata": {},
   "source": [
    "# Check for Time/Days/Timezone\n",
    "\n",
    "+ Central = Chicago\n",
    "\n",
    "+ Pacific = Los Angeles\n",
    "\n",
    "+ Eastern = New York"
   ]
  },
  {
   "cell_type": "code",
   "execution_count": 21,
   "metadata": {},
   "outputs": [
    {
     "data": {
      "text/html": [
       "<div>\n",
       "<style scoped>\n",
       "    .dataframe tbody tr th:only-of-type {\n",
       "        vertical-align: middle;\n",
       "    }\n",
       "\n",
       "    .dataframe tbody tr th {\n",
       "        vertical-align: top;\n",
       "    }\n",
       "\n",
       "    .dataframe thead th {\n",
       "        text-align: right;\n",
       "    }\n",
       "</style>\n",
       "<table border=\"1\" class=\"dataframe\">\n",
       "  <thead>\n",
       "    <tr style=\"text-align: right;\">\n",
       "      <th></th>\n",
       "      <th>Days</th>\n",
       "      <th>From Time</th>\n",
       "      <th>To Time</th>\n",
       "      <th>Time Zone</th>\n",
       "    </tr>\n",
       "  </thead>\n",
       "  <tbody>\n",
       "    <tr>\n",
       "      <th>0</th>\n",
       "      <td>[MONDAY, TUESDAY, WEDNESDAY, THURSDAY, FRIDAY, SATURDAY, SUNDAY]</td>\n",
       "      <td>07:00:00</td>\n",
       "      <td>19:00:00</td>\n",
       "      <td>Chicago</td>\n",
       "    </tr>\n",
       "  </tbody>\n",
       "</table>\n",
       "</div>"
      ],
      "text/plain": [
       "                                                               Days From Time  \\\n",
       "0  [MONDAY, TUESDAY, WEDNESDAY, THURSDAY, FRIDAY, SATURDAY, SUNDAY]  07:00:00   \n",
       "\n",
       "    To Time Time Zone  \n",
       "0  19:00:00   Chicago  "
      ]
     },
     "execution_count": 21,
     "metadata": {},
     "output_type": "execute_result"
    }
   ],
   "source": [
    "pd.set_option('max_colwidth', None)\n",
    "\n",
    "for i,value in df[df[\"component.name\"]==\"time_based_rules-NDU4NTVlNz\"][\"exits\"].items():\n",
    "    df_time=pd.json_normalize(value[1])\n",
    "    for i,value in df_time[\"condition.ranges\"].items():\n",
    "        time=pd.json_normalize(value)\n",
    "    for i,value in df_time[\"condition.timezone\"].items():\n",
    "        time[\"Time Zone\"] = value.split(\"/\")[1].replace(\"_\",\" \")\n",
    "\n",
    "time = time[[\"days\",\"time.from\",\"time.to\",\"Time Zone\"]]\n",
    "List_of_Column = [\"Days\",\"From Time\",\"To Time\", \"Time Zone\"]\n",
    "time.columns = List_of_Column\n",
    "time\n"
   ]
  },
  {
   "cell_type": "markdown",
   "metadata": {},
   "source": [
    "# Component checker\n",
    "\n",
    "+ If you are building a different or custom build queue, it will look different from the other queue"
   ]
  },
  {
   "cell_type": "code",
   "execution_count": 22,
   "metadata": {},
   "outputs": [
    {
     "data": {
      "text/plain": [
       "component.name\n",
       "play_audio-NjFkZDU2MG              20\n",
       "assignment_and_dial-M2JhZTViYT     12\n",
       "voicemail-NGQ0ZDE5Nj               10\n",
       "hangup_call-OTE5ZmM0NW             10\n",
       "standard_ivr-M2NlYzMzNz             9\n",
       "callback-OTU1MjIyYm                 8\n",
       "calendar_based_rules-OTQ1M2UxMG     4\n",
       "time_based_rules-NDU4NTVlNz         2\n",
       "record-ZGE1ZDUyOD                   1\n",
       "inbound_voice-ZjE1ZjM0MG            1\n",
       "Name: count, dtype: int64"
      ]
     },
     "execution_count": 22,
     "metadata": {},
     "output_type": "execute_result"
    }
   ],
   "source": [
    "df[\"component.name\"].value_counts()"
   ]
  }
 ],
 "metadata": {
  "kernelspec": {
   "display_name": "base",
   "language": "python",
   "name": "python3"
  },
  "language_info": {
   "codemirror_mode": {
    "name": "ipython",
    "version": 3
   },
   "file_extension": ".py",
   "mimetype": "text/x-python",
   "name": "python",
   "nbconvert_exporter": "python",
   "pygments_lexer": "ipython3",
   "version": "3.11.4"
  }
 },
 "nbformat": 4,
 "nbformat_minor": 2
}
