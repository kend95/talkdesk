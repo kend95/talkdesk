{
 "cells": [
  {
   "cell_type": "markdown",
   "metadata": {},
   "source": [
    "**Installing Necessary Library**"
   ]
  },
  {
   "cell_type": "code",
   "execution_count": 1,
   "metadata": {},
   "outputs": [
    {
     "name": "stdout",
     "output_type": "stream",
     "text": [
      "Requirement already satisfied: panda in c:\\users\\tdang_eoiservice\\anaconda3\\lib\\site-packages (0.3.1)\n",
      "Requirement already satisfied: setuptools in c:\\users\\tdang_eoiservice\\anaconda3\\lib\\site-packages (from panda) (68.0.0)\n",
      "Requirement already satisfied: requests in c:\\users\\tdang_eoiservice\\anaconda3\\lib\\site-packages (from panda) (2.31.0)\n",
      "Requirement already satisfied: charset-normalizer<4,>=2 in c:\\users\\tdang_eoiservice\\anaconda3\\lib\\site-packages (from requests->panda) (2.0.4)\n",
      "Requirement already satisfied: idna<4,>=2.5 in c:\\users\\tdang_eoiservice\\anaconda3\\lib\\site-packages (from requests->panda) (3.4)\n",
      "Requirement already satisfied: urllib3<3,>=1.21.1 in c:\\users\\tdang_eoiservice\\anaconda3\\lib\\site-packages (from requests->panda) (1.26.16)\n",
      "Requirement already satisfied: certifi>=2017.4.17 in c:\\users\\tdang_eoiservice\\anaconda3\\lib\\site-packages (from requests->panda) (2023.7.22)\n",
      "Note: you may need to restart the kernel to use updated packages.\n"
     ]
    }
   ],
   "source": [
    "pip install panda\n"
   ]
  },
  {
   "cell_type": "code",
   "execution_count": 2,
   "metadata": {},
   "outputs": [],
   "source": [
    "import json\n",
    "import pandas as pd\n",
    "from pathlib import Path\n",
    "import os\n",
    "from datetime import datetime"
   ]
  },
  {
   "cell_type": "code",
   "execution_count": 3,
   "metadata": {},
   "outputs": [
    {
     "data": {
      "text/plain": [
       "'Template (DO NOT TOUCH)/Oakland Management - v1 (Template).json'"
      ]
     },
     "execution_count": 3,
     "metadata": {},
     "output_type": "execute_result"
    }
   ],
   "source": [
    "path = str(Path().absolute()).replace(\"\\\\\",\"/\")\n",
    "require_path = path + \"/Template (DO NOT TOUCH)/\"\n",
    "dir_list= \"Template (DO NOT TOUCH)/\"+ os.listdir(require_path)[0]\n",
    "dir_list"
   ]
  },
  {
   "cell_type": "code",
   "execution_count": 4,
   "metadata": {},
   "outputs": [
    {
     "ename": "ValueError",
     "evalue": "time data '0 AM' does not match format '%I %p'",
     "output_type": "error",
     "traceback": [
      "\u001b[1;31m---------------------------------------------------------------------------\u001b[0m",
      "\u001b[1;31mValueError\u001b[0m                                Traceback (most recent call last)",
      "Cell \u001b[1;32mIn[4], line 27\u001b[0m\n\u001b[0;32m     22\u001b[0m end_hour \u001b[38;5;241m=\u001b[39m \u001b[38;5;28minput\u001b[39m((\u001b[38;5;124m\"\u001b[39m\u001b[38;5;124mPlease Enter Ending Hours (1-12): \u001b[39m\u001b[38;5;124m\"\u001b[39m)) \u001b[38;5;241m+\u001b[39m \u001b[38;5;124m\"\u001b[39m\u001b[38;5;124m PM\u001b[39m\u001b[38;5;124m\"\u001b[39m\n\u001b[0;32m     23\u001b[0m region \u001b[38;5;241m=\u001b[39m \u001b[38;5;28minput\u001b[39m(\u001b[38;5;124m\"\u001b[39m\u001b[38;5;124mPlease Enter Time Zone (Central/Pacific/East): \u001b[39m\u001b[38;5;124m\"\u001b[39m)\n\u001b[1;32m---> 27\u001b[0m from_hour \u001b[38;5;241m=\u001b[39m \u001b[43mtime_convert\u001b[49m\u001b[43m(\u001b[49m\u001b[43mfrom_hour\u001b[49m\u001b[43m)\u001b[49m\n\u001b[0;32m     28\u001b[0m end_hour \u001b[38;5;241m=\u001b[39m time_convert(end_hour)\n\u001b[0;32m     29\u001b[0m region \u001b[38;5;241m=\u001b[39m time_zone(region)\n",
      "Cell \u001b[1;32mIn[4], line 4\u001b[0m, in \u001b[0;36mtime_convert\u001b[1;34m(hour)\u001b[0m\n\u001b[0;32m      2\u001b[0m \u001b[38;5;28;01mdef\u001b[39;00m \u001b[38;5;21mtime_convert\u001b[39m(hour):\n\u001b[0;32m      3\u001b[0m     hour \u001b[38;5;241m=\u001b[39m \u001b[38;5;124m\"\u001b[39m\u001b[38;5;124m0\u001b[39m\u001b[38;5;124m\"\u001b[39m\u001b[38;5;241m+\u001b[39mhour\n\u001b[1;32m----> 4\u001b[0m     t \u001b[38;5;241m=\u001b[39m \u001b[43mdatetime\u001b[49m\u001b[38;5;241;43m.\u001b[39;49m\u001b[43mstrptime\u001b[49m\u001b[43m(\u001b[49m\u001b[43mhour\u001b[49m\u001b[43m,\u001b[49m\u001b[43m \u001b[49m\u001b[38;5;124;43m\"\u001b[39;49m\u001b[38;5;124;43m%\u001b[39;49m\u001b[38;5;124;43mI \u001b[39;49m\u001b[38;5;124;43m%\u001b[39;49m\u001b[38;5;124;43mp\u001b[39;49m\u001b[38;5;124;43m\"\u001b[39;49m\u001b[43m)\u001b[49m\u001b[38;5;241m.\u001b[39mstrftime(\u001b[38;5;124m\"\u001b[39m\u001b[38;5;124m%\u001b[39m\u001b[38;5;124mH:\u001b[39m\u001b[38;5;124m%\u001b[39m\u001b[38;5;124mM:\u001b[39m\u001b[38;5;124m%\u001b[39m\u001b[38;5;124mS\u001b[39m\u001b[38;5;124m\"\u001b[39m)\n\u001b[0;32m      5\u001b[0m     \u001b[38;5;28;01mreturn\u001b[39;00m(t)\n",
      "File \u001b[1;32mc:\\Users\\tdang_eoiservice\\anaconda3\\Lib\\_strptime.py:568\u001b[0m, in \u001b[0;36m_strptime_datetime\u001b[1;34m(cls, data_string, format)\u001b[0m\n\u001b[0;32m    565\u001b[0m \u001b[38;5;28;01mdef\u001b[39;00m \u001b[38;5;21m_strptime_datetime\u001b[39m(\u001b[38;5;28mcls\u001b[39m, data_string, \u001b[38;5;28mformat\u001b[39m\u001b[38;5;241m=\u001b[39m\u001b[38;5;124m\"\u001b[39m\u001b[38;5;132;01m%a\u001b[39;00m\u001b[38;5;124m \u001b[39m\u001b[38;5;124m%\u001b[39m\u001b[38;5;124mb \u001b[39m\u001b[38;5;132;01m%d\u001b[39;00m\u001b[38;5;124m \u001b[39m\u001b[38;5;124m%\u001b[39m\u001b[38;5;124mH:\u001b[39m\u001b[38;5;124m%\u001b[39m\u001b[38;5;124mM:\u001b[39m\u001b[38;5;124m%\u001b[39m\u001b[38;5;124mS \u001b[39m\u001b[38;5;124m%\u001b[39m\u001b[38;5;124mY\u001b[39m\u001b[38;5;124m\"\u001b[39m):\n\u001b[0;32m    566\u001b[0m \u001b[38;5;250m    \u001b[39m\u001b[38;5;124;03m\"\"\"Return a class cls instance based on the input string and the\u001b[39;00m\n\u001b[0;32m    567\u001b[0m \u001b[38;5;124;03m    format string.\"\"\"\u001b[39;00m\n\u001b[1;32m--> 568\u001b[0m     tt, fraction, gmtoff_fraction \u001b[38;5;241m=\u001b[39m \u001b[43m_strptime\u001b[49m\u001b[43m(\u001b[49m\u001b[43mdata_string\u001b[49m\u001b[43m,\u001b[49m\u001b[43m \u001b[49m\u001b[38;5;28;43mformat\u001b[39;49m\u001b[43m)\u001b[49m\n\u001b[0;32m    569\u001b[0m     tzname, gmtoff \u001b[38;5;241m=\u001b[39m tt[\u001b[38;5;241m-\u001b[39m\u001b[38;5;241m2\u001b[39m:]\n\u001b[0;32m    570\u001b[0m     args \u001b[38;5;241m=\u001b[39m tt[:\u001b[38;5;241m6\u001b[39m] \u001b[38;5;241m+\u001b[39m (fraction,)\n",
      "File \u001b[1;32mc:\\Users\\tdang_eoiservice\\anaconda3\\Lib\\_strptime.py:349\u001b[0m, in \u001b[0;36m_strptime\u001b[1;34m(data_string, format)\u001b[0m\n\u001b[0;32m    347\u001b[0m found \u001b[38;5;241m=\u001b[39m format_regex\u001b[38;5;241m.\u001b[39mmatch(data_string)\n\u001b[0;32m    348\u001b[0m \u001b[38;5;28;01mif\u001b[39;00m \u001b[38;5;129;01mnot\u001b[39;00m found:\n\u001b[1;32m--> 349\u001b[0m     \u001b[38;5;28;01mraise\u001b[39;00m \u001b[38;5;167;01mValueError\u001b[39;00m(\u001b[38;5;124m\"\u001b[39m\u001b[38;5;124mtime data \u001b[39m\u001b[38;5;132;01m%r\u001b[39;00m\u001b[38;5;124m does not match format \u001b[39m\u001b[38;5;132;01m%r\u001b[39;00m\u001b[38;5;124m\"\u001b[39m \u001b[38;5;241m%\u001b[39m\n\u001b[0;32m    350\u001b[0m                      (data_string, \u001b[38;5;28mformat\u001b[39m))\n\u001b[0;32m    351\u001b[0m \u001b[38;5;28;01mif\u001b[39;00m \u001b[38;5;28mlen\u001b[39m(data_string) \u001b[38;5;241m!=\u001b[39m found\u001b[38;5;241m.\u001b[39mend():\n\u001b[0;32m    352\u001b[0m     \u001b[38;5;28;01mraise\u001b[39;00m \u001b[38;5;167;01mValueError\u001b[39;00m(\u001b[38;5;124m\"\u001b[39m\u001b[38;5;124munconverted data remains: \u001b[39m\u001b[38;5;132;01m%s\u001b[39;00m\u001b[38;5;124m\"\u001b[39m \u001b[38;5;241m%\u001b[39m\n\u001b[0;32m    353\u001b[0m                       data_string[found\u001b[38;5;241m.\u001b[39mend():])\n",
      "\u001b[1;31mValueError\u001b[0m: time data '0 AM' does not match format '%I %p'"
     ]
    }
   ],
   "source": [
    "# simple hour convertion function format from 12hour to 24hour time\n",
    "def time_convert(hour):\n",
    "    hour = \"0\"+hour\n",
    "    t = datetime.strptime(hour, \"%I %p\").strftime(\"%H:%M:%S\")\n",
    "    return(t)\n",
    "def time_zone(zone):\n",
    "    if zone == \"central\" or zone ==\"Central\":\n",
    "        r = \"America/Chicago\"\n",
    "    elif zone == \"pacific\" or zone == \"Pacific\":\n",
    "        r = \"America/Los_Angeles\"\n",
    "    elif zone == \"east\" or zone == \"East\":\n",
    "        r = \"America/New_York\"\n",
    "    \n",
    "    return (r)\n",
    "\n",
    "#import template file\n",
    "with open(dir_list) as f:\n",
    "    data = f.read()\n",
    "\n",
    "queue_name = input(\"Please Enter The New Queue name only:\")\n",
    "from_hour = input(\"Please Enter Starting Hours (1-12): \") + \" AM\"\n",
    "end_hour = input((\"Please Enter Ending Hours (1-12): \")) + \" PM\"\n",
    "region = input(\"Please Enter Time Zone (Central/Pacific/East): \")\n",
    "\n",
    "\n",
    "\n",
    "from_hour = time_convert(from_hour)\n",
    "end_hour = time_convert(end_hour)\n",
    "region = time_zone(region)\n",
    "\n",
    "print(\"Queue Name: \", queue_name)\n",
    "print(\"Business Hours: \",from_hour + \"AM - \" + end_hour,\"PM\")\n",
    "print(\"Queue Region Time: \", region)\n",
    "\n",
    "Head = data[:254].replace(\"oakland management\", queue_name)\n",
    "Tail= data[254:].replace(\"oakland management\", queue_name.lower())\n",
    "data = Head + Tail\n",
    "data = data.replace(\"07:00:00\", from_hour)\n",
    "data = data.replace(\"19:00:00\", end_hour)\n",
    "data = data.replace(\"America/Chicago\",region)\n",
    "\n",
    "#Export New File\n",
    "with open(\"Completed/\"+queue_name+\" - v1.json\", 'w') as outfile:\n",
    "    outfile.write(data)"
   ]
  },
  {
   "cell_type": "markdown",
   "metadata": {},
   "source": [
    "**Check to see if the ring group is replace correctly**"
   ]
  },
  {
   "cell_type": "code",
   "execution_count": null,
   "metadata": {},
   "outputs": [
    {
     "data": {
      "text/plain": [
       "properties.assignment_parameters.ring_groups.ring_groups_list\n",
       "[sandstone]                10\n",
       "[sandstone spanish]        10\n",
       "[sandstone sms]             5\n",
       "[sandstone spanish sms]     5\n",
       "Name: count, dtype: int64"
      ]
     },
     "execution_count": 5,
     "metadata": {},
     "output_type": "execute_result"
    }
   ],
   "source": [
    "with open(\"Completed/\"+queue_name+\" - v1.json\") as f:\n",
    "    data = f.read()\n",
    "    data = json.loads(data)\n",
    "    \n",
    "df=pd.json_normalize(data[\"steps\"])\n",
    "\n",
    "df[\"properties.assignment_parameters.ring_groups.ring_groups_list\"].value_counts()\n"
   ]
  },
  {
   "cell_type": "markdown",
   "metadata": {},
   "source": [
    "**Check for Time/Days/Timezone**"
   ]
  },
  {
   "cell_type": "code",
   "execution_count": null,
   "metadata": {},
   "outputs": [
    {
     "data": {
      "text/html": [
       "<div>\n",
       "<style scoped>\n",
       "    .dataframe tbody tr th:only-of-type {\n",
       "        vertical-align: middle;\n",
       "    }\n",
       "\n",
       "    .dataframe tbody tr th {\n",
       "        vertical-align: top;\n",
       "    }\n",
       "\n",
       "    .dataframe thead th {\n",
       "        text-align: right;\n",
       "    }\n",
       "</style>\n",
       "<table border=\"1\" class=\"dataframe\">\n",
       "  <thead>\n",
       "    <tr style=\"text-align: right;\">\n",
       "      <th></th>\n",
       "      <th>days</th>\n",
       "      <th>time.to</th>\n",
       "      <th>time.from</th>\n",
       "      <th>Time Zone</th>\n",
       "    </tr>\n",
       "  </thead>\n",
       "  <tbody>\n",
       "    <tr>\n",
       "      <th>0</th>\n",
       "      <td>[MONDAY, TUESDAY, WEDNESDAY, THURSDAY, FRIDAY, SATURDAY, SUNDAY]</td>\n",
       "      <td>20:00:00</td>\n",
       "      <td>07:00:00</td>\n",
       "      <td>Chicago</td>\n",
       "    </tr>\n",
       "  </tbody>\n",
       "</table>\n",
       "</div>"
      ],
      "text/plain": [
       "                                                               days   time.to  \\\n",
       "0  [MONDAY, TUESDAY, WEDNESDAY, THURSDAY, FRIDAY, SATURDAY, SUNDAY]  20:00:00   \n",
       "\n",
       "  time.from Time Zone  \n",
       "0  07:00:00   Chicago  "
      ]
     },
     "execution_count": 6,
     "metadata": {},
     "output_type": "execute_result"
    }
   ],
   "source": [
    "pd.set_option('max_colwidth', None)\n",
    "\n",
    "for i,value in df[df[\"component.name\"]==\"time_based_rules-NDU4NTVlNz\"][\"exits\"].items():\n",
    "    df_time=pd.json_normalize(value[1])\n",
    "    for i,value in df_time[\"condition.ranges\"].items():\n",
    "        time=pd.json_normalize(value)\n",
    "    for i,value in df_time[\"condition.timezone\"].items():\n",
    "        time[\"Time Zone\"] = value.split(\"/\")[1].replace(\"_\",\" \")\n",
    "\n",
    "time\n"
   ]
  },
  {
   "cell_type": "code",
   "execution_count": null,
   "metadata": {},
   "outputs": [
    {
     "data": {
      "text/plain": [
       "component.name\n",
       "play_audio-NjFkZDU2MG              20\n",
       "assignment_and_dial-M2JhZTViYT     12\n",
       "voicemail-NGQ0ZDE5Nj               10\n",
       "hangup_call-OTE5ZmM0NW             10\n",
       "standard_ivr-M2NlYzMzNz             9\n",
       "callback-OTU1MjIyYm                 8\n",
       "calendar_based_rules-OTQ1M2UxMG     4\n",
       "time_based_rules-NDU4NTVlNz         2\n",
       "record-ZGE1ZDUyOD                   1\n",
       "inbound_voice-ZjE1ZjM0MG            1\n",
       "Name: count, dtype: int64"
      ]
     },
     "execution_count": 7,
     "metadata": {},
     "output_type": "execute_result"
    }
   ],
   "source": [
    "df[\"component.name\"].value_counts()"
   ]
  }
 ],
 "metadata": {
  "kernelspec": {
   "display_name": "base",
   "language": "python",
   "name": "python3"
  },
  "language_info": {
   "codemirror_mode": {
    "name": "ipython",
    "version": 3
   },
   "file_extension": ".py",
   "mimetype": "text/x-python",
   "name": "python",
   "nbconvert_exporter": "python",
   "pygments_lexer": "ipython3",
   "version": "3.11.5"
  }
 },
 "nbformat": 4,
 "nbformat_minor": 2
}
